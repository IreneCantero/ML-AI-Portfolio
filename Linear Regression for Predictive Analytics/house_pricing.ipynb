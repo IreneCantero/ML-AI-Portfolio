{
 "cells": [
  {
   "cell_type": "code",
   "execution_count": 44,
   "metadata": {},
   "outputs": [],
   "source": [
    "import kagglehub\n",
    "import numpy as np\n",
    "import polars as pl\n",
    "from typing import Tuple\n",
    "from sklearn.preprocessing import LabelEncoder"
   ]
  },
  {
   "cell_type": "code",
   "execution_count": 10,
   "metadata": {},
   "outputs": [
    {
     "name": "stdout",
     "output_type": "stream",
     "text": [
      "Downloading from https://www.kaggle.com/api/v1/datasets/download/thedevastator/prices-characteristics-of-spanish-homes?dataset_version_number=1...\n"
     ]
    },
    {
     "name": "stderr",
     "output_type": "stream",
     "text": [
      "100%|██████████| 62.3M/62.3M [00:02<00:00, 27.3MB/s]"
     ]
    },
    {
     "name": "stdout",
     "output_type": "stream",
     "text": [
      "Extracting files...\n"
     ]
    },
    {
     "name": "stderr",
     "output_type": "stream",
     "text": [
      "\n"
     ]
    },
    {
     "name": "stdout",
     "output_type": "stream",
     "text": [
      "Path to dataset files: D:\\SISTEMA\\WinUsers\\Irene\\.cache\\kagglehub\\datasets\\thedevastator\\prices-characteristics-of-spanish-homes\\versions\\1\n"
     ]
    }
   ],
   "source": [
    "# Download latest version\n",
    "path = kagglehub.dataset_download(\"thedevastator/prices-characteristics-of-spanish-homes\")\n",
    "\n",
    "print(\"Path to dataset files:\", path)"
   ]
  },
  {
   "cell_type": "code",
   "execution_count": 139,
   "metadata": {},
   "outputs": [
    {
     "data": {
      "text/html": [
       "<div><style>\n",
       ".dataframe > thead > tr,\n",
       ".dataframe > tbody > tr {\n",
       "  text-align: right;\n",
       "  white-space: pre-wrap;\n",
       "}\n",
       "</style>\n",
       "<small>shape: (15, 14)</small><table border=\"1\" class=\"dataframe\"><thead><tr><th></th><th>summary</th><th>description</th><th>location</th><th>photo</th><th>recomendado</th><th>price</th><th>size</th><th>rooms</th><th>price/m2</th><th>bathrooms</th><th>Num Photos</th><th>type</th><th>region</th></tr><tr><td>i64</td><td>str</td><td>str</td><td>str</td><td>str</td><td>str</td><td>str</td><td>str</td><td>i64</td><td>str</td><td>i64</td><td>i64</td><td>str</td><td>str</td></tr></thead><tbody><tr><td>0</td><td>&quot;Casa en calle …</td><td>null</td><td>&quot;Ames (San Tome…</td><td>&quot;https://fotos4…</td><td>&quot;Recomendado&quot;</td><td>&quot;250.000 €&quot;</td><td>&quot;315 m²&quot;</td><td>4</td><td>&quot;793 €/m²&quot;</td><td>3</td><td>31</td><td>&quot;pisos&quot;</td><td>&quot;a_coruna&quot;</td></tr><tr><td>1</td><td>&quot;Piso en Millad…</td><td>null</td><td>&quot;Ames (San Tome…</td><td>&quot;https://fotos4…</td><td>&quot;Recomendado&quot;</td><td>&quot;90.000 €&quot;</td><td>&quot;72 m²&quot;</td><td>2</td><td>&quot;1.250 €/m²&quot;</td><td>1</td><td>11</td><td>&quot;pisos&quot;</td><td>&quot;a_coruna&quot;</td></tr><tr><td>2</td><td>&quot;Casa en calle …</td><td>null</td><td>&quot;A Ortigueira (…</td><td>&quot;https://fotos1…</td><td>&quot;Recomendado&quot;</td><td>&quot;50.000 €&quot;</td><td>&quot;92 m²&quot;</td><td>2</td><td>&quot;543 €/m²&quot;</td><td>1</td><td>40</td><td>&quot;pisos&quot;</td><td>&quot;a_coruna&quot;</td></tr><tr><td>3</td><td>&quot;Casa en Perill…</td><td>null</td><td>&quot;Perillo (Oleir…</td><td>&quot;https://fotos3…</td><td>&quot;Recomendado&quot;</td><td>&quot;359.000 €&quot;</td><td>&quot;244 m²&quot;</td><td>4</td><td>&quot;1.471 €/m²&quot;</td><td>3</td><td>39</td><td>&quot;pisos&quot;</td><td>&quot;a_coruna&quot;</td></tr><tr><td>4</td><td>&quot;Chalet en Urba…</td><td>null</td><td>&quot;O Milladoiro (…</td><td>&quot;https://fotos5…</td><td>&quot;Recomendado&quot;</td><td>&quot;200.430 €&quot;</td><td>&quot;315 m²&quot;</td><td>4</td><td>&quot;636 €/m²&quot;</td><td>3</td><td>24</td><td>&quot;pisos&quot;</td><td>&quot;a_coruna&quot;</td></tr><tr><td>5</td><td>&quot;Casa en Bergon…</td><td>null</td><td>&quot;Bergondo (Carr…</td><td>&quot;https://fotos2…</td><td>&quot;Recomendado&quot;</td><td>&quot;320.000 €&quot;</td><td>&quot;226 m²&quot;</td><td>4</td><td>&quot;1.415 €/m²&quot;</td><td>3</td><td>21</td><td>&quot;pisos&quot;</td><td>&quot;a_coruna&quot;</td></tr><tr><td>6</td><td>&quot;Casa adosada e…</td><td>null</td><td>&quot;Cariño&quot;</td><td>&quot;https://fotos2…</td><td>&quot;Recomendado&quot;</td><td>&quot;120.000 €&quot;</td><td>&quot;196 m²&quot;</td><td>5</td><td>&quot;612 €/m²&quot;</td><td>2</td><td>65</td><td>&quot;pisos&quot;</td><td>&quot;a_coruna&quot;</td></tr><tr><td>7</td><td>&quot;Apartamento en…</td><td>null</td><td>&quot;Catro Camiños-…</td><td>&quot;https://fotos2…</td><td>&quot;Recomendado&quot;</td><td>&quot;102.000 €&quot;</td><td>&quot;48 m²&quot;</td><td>1</td><td>&quot;2.125 €/m²&quot;</td><td>1</td><td>10</td><td>&quot;pisos&quot;</td><td>&quot;a_coruna&quot;</td></tr><tr><td>8</td><td>&quot;Casa en Santa …</td><td>null</td><td>&quot;Bergondo (Carr…</td><td>&quot;https://fotos2…</td><td>&quot;Recomendado&quot;</td><td>&quot;285.000 €&quot;</td><td>&quot;300 m²&quot;</td><td>4</td><td>&quot;950 €/m²&quot;</td><td>4</td><td>32</td><td>&quot;pisos&quot;</td><td>&quot;a_coruna&quot;</td></tr><tr><td>9</td><td>&quot;Piso en calle …</td><td>null</td><td>&quot;Sada&quot;</td><td>&quot;https://fotos1…</td><td>&quot;Recomendado&quot;</td><td>&quot;49.000 €&quot;</td><td>&quot;82 m²&quot;</td><td>4</td><td>&quot;597 €/m²&quot;</td><td>1</td><td>16</td><td>&quot;pisos&quot;</td><td>&quot;a_coruna&quot;</td></tr><tr><td>10</td><td>&quot;Piso en Fontiñ…</td><td>null</td><td>&quot;Concheiros-Fon…</td><td>&quot;https://fotos4…</td><td>&quot;Recomendado&quot;</td><td>&quot;260.000 €&quot;</td><td>&quot;105 m²&quot;</td><td>3</td><td>&quot;2.476 €/m²&quot;</td><td>2</td><td>15</td><td>&quot;pisos&quot;</td><td>&quot;a_coruna&quot;</td></tr><tr><td>11</td><td>&quot;Piso en calle …</td><td>null</td><td>&quot;Piñeiros-Freix…</td><td>&quot;https://fotos3…</td><td>&quot;Recomendado&quot;</td><td>&quot;109.000 €&quot;</td><td>&quot;96 m²&quot;</td><td>3</td><td>&quot;1.135 €/m²&quot;</td><td>2</td><td>9</td><td>&quot;pisos&quot;</td><td>&quot;a_coruna&quot;</td></tr><tr><td>12</td><td>&quot;Chalet en Oute…</td><td>null</td><td>&quot;Conxo-Castiñei…</td><td>&quot;https://fotos4…</td><td>&quot;Recomendado&quot;</td><td>&quot;360.000 €&quot;</td><td>&quot;292 m²&quot;</td><td>5</td><td>&quot;1.232 €/m²&quot;</td><td>3</td><td>25</td><td>&quot;pisos&quot;</td><td>&quot;a_coruna&quot;</td></tr><tr><td>13</td><td>&quot;Piso en Rúa Ra…</td><td>null</td><td>&quot;A Carreira (Mi…</td><td>&quot;https://fotos1…</td><td>&quot;Recomendado&quot;</td><td>&quot;118.000 €&quot;</td><td>&quot;85 m²&quot;</td><td>3</td><td>&quot;1.388 €/m²&quot;</td><td>2</td><td>41</td><td>&quot;pisos&quot;</td><td>&quot;a_coruna&quot;</td></tr><tr><td>14</td><td>&quot;Casa pareada e…</td><td>null</td><td>&quot;Centro Históri…</td><td>&quot;https://fotos1…</td><td>&quot;Recomendado&quot;</td><td>&quot;495.000 €&quot;</td><td>&quot;348 m²&quot;</td><td>9</td><td>&quot;1.422 €/m²&quot;</td><td>3</td><td>40</td><td>&quot;pisos&quot;</td><td>&quot;a_coruna&quot;</td></tr></tbody></table></div>"
      ],
      "text/plain": [
       "shape: (15, 14)\n",
       "┌─────┬───────────────┬─────────────┬──────────────┬───┬───────────┬────────────┬───────┬──────────┐\n",
       "│     ┆ summary       ┆ description ┆ location     ┆ … ┆ bathrooms ┆ Num Photos ┆ type  ┆ region   │\n",
       "│ --- ┆ ---           ┆ ---         ┆ ---          ┆   ┆ ---       ┆ ---        ┆ ---   ┆ ---      │\n",
       "│ i64 ┆ str           ┆ str         ┆ str          ┆   ┆ i64       ┆ i64        ┆ str   ┆ str      │\n",
       "╞═════╪═══════════════╪═════════════╪══════════════╪═══╪═══════════╪════════════╪═══════╪══════════╡\n",
       "│ 0   ┆ Casa en calle ┆ null        ┆ Ames (San    ┆ … ┆ 3         ┆ 31         ┆ pisos ┆ a_coruna │\n",
       "│     ┆ Urb. Las      ┆             ┆ Tome)        ┆   ┆           ┆            ┆       ┆          │\n",
       "│     ┆ Mimosas       ┆             ┆              ┆   ┆           ┆            ┆       ┆          │\n",
       "│ 1   ┆ Piso en       ┆ null        ┆ Ames (San    ┆ … ┆ 1         ┆ 11         ┆ pisos ┆ a_coruna │\n",
       "│     ┆ Milladoiro    ┆             ┆ Tome)        ┆   ┆           ┆            ┆       ┆          │\n",
       "│ 2   ┆ Casa en calle ┆ null        ┆ A Ortigueira ┆ … ┆ 1         ┆ 40         ┆ pisos ┆ a_coruna │\n",
       "│     ┆ La Piedra     ┆             ┆ (Cariño)     ┆   ┆           ┆            ┆       ┆          │\n",
       "│ 3   ┆ Casa en       ┆ null        ┆ Perillo      ┆ … ┆ 3         ┆ 39         ┆ pisos ┆ a_coruna │\n",
       "│     ┆ Perillo       ┆             ┆ (Oleiros)    ┆   ┆           ┆            ┆       ┆          │\n",
       "│ 4   ┆ Chalet en     ┆ null        ┆ O Milladoiro ┆ … ┆ 3         ┆ 24         ┆ pisos ┆ a_coruna │\n",
       "│     ┆ Urbanización  ┆             ┆ (Ames)       ┆   ┆           ┆            ┆       ┆          │\n",
       "│     ┆ Las Mimos…    ┆             ┆              ┆   ┆           ┆            ┆       ┆          │\n",
       "│ …   ┆ …             ┆ …           ┆ …            ┆ … ┆ …         ┆ …          ┆ …     ┆ …        │\n",
       "│ 10  ┆ Piso en       ┆ null        ┆ Concheiros-F ┆ … ┆ 2         ┆ 15         ┆ pisos ┆ a_coruna │\n",
       "│     ┆ Fontiñas      ┆             ┆ ontiñas      ┆   ┆           ┆            ┆       ┆          │\n",
       "│     ┆               ┆             ┆ (Santiago    ┆   ┆           ┆            ┆       ┆          │\n",
       "│     ┆               ┆             ┆ de…          ┆   ┆           ┆            ┆       ┆          │\n",
       "│ 11  ┆ Piso en calle ┆ null        ┆ Piñeiros-Fre ┆ … ┆ 2         ┆ 9          ┆ pisos ┆ a_coruna │\n",
       "│     ┆ de Cadaval    ┆             ┆ ixeiro       ┆   ┆           ┆            ┆       ┆          │\n",
       "│     ┆               ┆             ┆ (Narón)      ┆   ┆           ┆            ┆       ┆          │\n",
       "│ 12  ┆ Chalet en     ┆ null        ┆ Conxo-Castiñ ┆ … ┆ 3         ┆ 25         ┆ pisos ┆ a_coruna │\n",
       "│     ┆ Outeiro Do    ┆             ┆ eiriño       ┆   ┆           ┆            ┆       ┆          │\n",
       "│     ┆ Castiñeiriñ…  ┆             ┆ (Santiago de ┆   ┆           ┆            ┆       ┆          │\n",
       "│     ┆               ┆             ┆ …            ┆   ┆           ┆            ┆       ┆          │\n",
       "│ 13  ┆ Piso en Rúa   ┆ null        ┆ A Carreira   ┆ … ┆ 2         ┆ 41         ┆ pisos ┆ a_coruna │\n",
       "│     ┆ Rabazal       ┆             ┆ (Miño)       ┆   ┆           ┆            ┆       ┆          │\n",
       "│ 14  ┆ Casa pareada  ┆ null        ┆ Centro       ┆ … ┆ 3         ┆ 40         ┆ pisos ┆ a_coruna │\n",
       "│     ┆ en calle      ┆             ┆ Histórico    ┆   ┆           ┆            ┆       ┆          │\n",
       "│     ┆ Virxe Da C…   ┆             ┆ (Santiago de ┆   ┆           ┆            ┆       ┆          │\n",
       "│     ┆               ┆             ┆ Co…          ┆   ┆           ┆            ┆       ┆          │\n",
       "└─────┴───────────────┴─────────────┴──────────────┴───┴───────────┴────────────┴───────┴──────────┘"
      ]
     },
     "execution_count": 139,
     "metadata": {},
     "output_type": "execute_result"
    }
   ],
   "source": [
    "file_path = path + \"\\\\\" + \"pisos.csv\"\n",
    "df_original = pl.read_csv(source=file_path, separator=\",\", ignore_errors=True)\n",
    "df_original.head(15)"
   ]
  },
  {
   "cell_type": "code",
   "execution_count": 140,
   "metadata": {},
   "outputs": [
    {
     "data": {
      "text/html": [
       "<div><style>\n",
       ".dataframe > thead > tr,\n",
       ".dataframe > tbody > tr {\n",
       "  text-align: right;\n",
       "  white-space: pre-wrap;\n",
       "}\n",
       "</style>\n",
       "<small>shape: (186,)</small><table border=\"1\" class=\"dataframe\"><thead><tr><th>type</th></tr><tr><td>str</td></tr></thead><tbody><tr><td>&quot;estudios&quot;</td></tr><tr><td>&quot;cordoba&quot;</td></tr><tr><td>&quot;navarra_nafarr…</td></tr><tr><td>&quot;arratia_nerbio…</td></tr><tr><td>&quot;area_de_guadal…</td></tr><tr><td>&quot;area_de_avila&quot;</td></tr><tr><td>&quot;malaga_capital…</td></tr><tr><td>&quot;valencia&quot;</td></tr><tr><td>&quot;trasmiera&quot;</td></tr><tr><td>&quot;valladolid&quot;</td></tr><tr><td>&quot;hospitalet_de_…</td></tr><tr><td>&quot;valles_occiden…</td></tr><tr><td>&hellip;</td></tr><tr><td>&quot;oeste_area_de_…</td></tr><tr><td>&quot;navarra_nafarr…</td></tr><tr><td>&quot;isla_de_mallor…</td></tr><tr><td>&quot;type&quot;</td></tr><tr><td>&quot;salamanca&quot;</td></tr><tr><td>&quot;zaragoza&quot;</td></tr><tr><td>&quot;isla_de_mallor…</td></tr><tr><td>&quot;madrid_suroest…</td></tr><tr><td>&quot;malaga&quot;</td></tr><tr><td>&quot;condado_parada…</td></tr><tr><td>&quot;sierra_de_cazo…</td></tr><tr><td>&quot;alt_penedes&quot;</td></tr></tbody></table></div>"
      ],
      "text/plain": [
       "shape: (186,)\n",
       "Series: 'type' [str]\n",
       "[\n",
       "\t\"estudios\"\n",
       "\t\"cordoba\"\n",
       "\t\"navarra_nafarr…\n",
       "\t\"arratia_nerbio…\n",
       "\t\"area_de_guadal…\n",
       "\t\"area_de_avila\"\n",
       "\t\"malaga_capital…\n",
       "\t\"valencia\"\n",
       "\t\"trasmiera\"\n",
       "\t\"valladolid\"\n",
       "\t\"hospitalet_de_…\n",
       "\t\"valles_occiden…\n",
       "\t…\n",
       "\t\"palencia\"\n",
       "\t\"oeste_area_de_…\n",
       "\t\"navarra_nafarr…\n",
       "\t\"isla_de_mallor…\n",
       "\t\"type\"\n",
       "\t\"salamanca\"\n",
       "\t\"zaragoza\"\n",
       "\t\"isla_de_mallor…\n",
       "\t\"madrid_suroest…\n",
       "\t\"malaga\"\n",
       "\t\"condado_parada…\n",
       "\t\"sierra_de_cazo…\n",
       "\t\"alt_penedes\"\n",
       "]"
      ]
     },
     "execution_count": 140,
     "metadata": {},
     "output_type": "execute_result"
    }
   ],
   "source": [
    "# There are values that do not make sense with the column description as it should only indicate the type of apartment.\n",
    "df_original['type'].unique()"
   ]
  },
  {
   "cell_type": "code",
   "execution_count": 141,
   "metadata": {},
   "outputs": [
    {
     "name": "stdout",
     "output_type": "stream",
     "text": [
      "From 777179 -> 768364 rows\n"
     ]
    },
    {
     "data": {
      "text/html": [
       "<div><style>\n",
       ".dataframe > thead > tr,\n",
       ".dataframe > tbody > tr {\n",
       "  text-align: right;\n",
       "  white-space: pre-wrap;\n",
       "}\n",
       "</style>\n",
       "<small>shape: (8,)</small><table border=\"1\" class=\"dataframe\"><thead><tr><th>type</th></tr><tr><td>str</td></tr></thead><tbody><tr><td>&quot;fincas_rustica…</td></tr><tr><td>&quot;estudios&quot;</td></tr><tr><td>&quot;lofts&quot;</td></tr><tr><td>&quot;aticos&quot;</td></tr><tr><td>&quot;pisos&quot;</td></tr><tr><td>&quot;piso&quot;</td></tr><tr><td>&quot;casas&quot;</td></tr><tr><td>&quot;duplexs&quot;</td></tr></tbody></table></div>"
      ],
      "text/plain": [
       "shape: (8,)\n",
       "Series: 'type' [str]\n",
       "[\n",
       "\t\"fincas_rustica…\n",
       "\t\"estudios\"\n",
       "\t\"lofts\"\n",
       "\t\"aticos\"\n",
       "\t\"pisos\"\n",
       "\t\"piso\"\n",
       "\t\"casas\"\n",
       "\t\"duplexs\"\n",
       "]"
      ]
     },
     "execution_count": 141,
     "metadata": {},
     "output_type": "execute_result"
    }
   ],
   "source": [
    "# Upon reviewing the rows causing these errors, I noticed two main issues:\n",
    "# \n",
    "#     Some rows are missing commas, which results in misalignment with the columns.\n",
    "#     Some rows use the string '...' to indicate missing data in the summary.\n",
    "# \n",
    "# Additionally, if the price column does not contain the euro symbol ('€'), it suggests that the row is missing price information.\n",
    "\n",
    "df_filtered = df_original.filter(\n",
    "    (pl.col(\"summary\") != \"...\") & \n",
    "    (pl.col(\"price\").str.contains(\"€\"))\n",
    ")\n",
    "print(f'From {len(df_original)} -> {len(df_filtered)} rows')\n",
    "df_filtered['type'].unique()"
   ]
  },
  {
   "cell_type": "code",
   "execution_count": 192,
   "metadata": {},
   "outputs": [
    {
     "data": {
      "text/plain": [
       "{'Piso': 'piso',\n",
       " 'Estudio': 'estudios',\n",
       " 'Loft': 'lofts',\n",
       " 'Apartamento': 'piso',\n",
       " 'Ático': 'aticos',\n",
       " 'Dúplex': 'duplexs',\n",
       " 'Finca': 'fincas_rusticas',\n",
       " 'Casa': 'casas',\n",
       " 'Chalet': 'casas'}"
      ]
     },
     "execution_count": 192,
     "metadata": {},
     "output_type": "execute_result"
    }
   ],
   "source": [
    "# \"Piso\" and \"Pisos\" should be the same type. However, when the summary is observed for \"Pisos\", the classification is not correct as houses appear as flats.\n",
    "df_filtered = df_filtered.with_columns(pl.col('summary').map_elements(lambda x: x.split(\" \")[0]).alias(\"summary_type\"))\n",
    "\n",
    "types_df_aux = df_filtered.filter(pl.col(\"type\") != \"pisos\")[[\"type\", \"summary_type\"]].unique()\n",
    "\n",
    "summary_types_to_types_dict = {}\n",
    "for row in types_df_aux.iter_rows():\n",
    "    summary_types_to_types_dict[row[1]] = row[0]\n",
    "\n",
    "summary_types_to_types_dict"
   ]
  },
  {
   "cell_type": "code",
   "execution_count": 196,
   "metadata": {},
   "outputs": [
    {
     "data": {
      "text/html": [
       "<div><style>\n",
       ".dataframe > thead > tr,\n",
       ".dataframe > tbody > tr {\n",
       "  text-align: right;\n",
       "  white-space: pre-wrap;\n",
       "}\n",
       "</style>\n",
       "<small>shape: (5, 16)</small><table border=\"1\" class=\"dataframe\"><thead><tr><th></th><th>summary</th><th>description</th><th>location</th><th>photo</th><th>recomendado</th><th>price</th><th>size</th><th>rooms</th><th>price/m2</th><th>bathrooms</th><th>Num Photos</th><th>type</th><th>region</th><th>summary_type</th><th>updated_type</th></tr><tr><td>i64</td><td>str</td><td>str</td><td>str</td><td>str</td><td>str</td><td>str</td><td>str</td><td>i64</td><td>str</td><td>i64</td><td>i64</td><td>str</td><td>str</td><td>str</td><td>str</td></tr></thead><tbody><tr><td>0</td><td>&quot;Casa en calle …</td><td>null</td><td>&quot;Ames (San Tome…</td><td>&quot;https://fotos4…</td><td>&quot;Recomendado&quot;</td><td>&quot;250.000 €&quot;</td><td>&quot;315 m²&quot;</td><td>4</td><td>&quot;793 €/m²&quot;</td><td>3</td><td>31</td><td>&quot;pisos&quot;</td><td>&quot;a_coruna&quot;</td><td>&quot;Casa&quot;</td><td>&quot;casas&quot;</td></tr><tr><td>1</td><td>&quot;Piso en Millad…</td><td>null</td><td>&quot;Ames (San Tome…</td><td>&quot;https://fotos4…</td><td>&quot;Recomendado&quot;</td><td>&quot;90.000 €&quot;</td><td>&quot;72 m²&quot;</td><td>2</td><td>&quot;1.250 €/m²&quot;</td><td>1</td><td>11</td><td>&quot;pisos&quot;</td><td>&quot;a_coruna&quot;</td><td>&quot;Piso&quot;</td><td>&quot;piso&quot;</td></tr><tr><td>2</td><td>&quot;Casa en calle …</td><td>null</td><td>&quot;A Ortigueira (…</td><td>&quot;https://fotos1…</td><td>&quot;Recomendado&quot;</td><td>&quot;50.000 €&quot;</td><td>&quot;92 m²&quot;</td><td>2</td><td>&quot;543 €/m²&quot;</td><td>1</td><td>40</td><td>&quot;pisos&quot;</td><td>&quot;a_coruna&quot;</td><td>&quot;Casa&quot;</td><td>&quot;casas&quot;</td></tr><tr><td>3</td><td>&quot;Casa en Perill…</td><td>null</td><td>&quot;Perillo (Oleir…</td><td>&quot;https://fotos3…</td><td>&quot;Recomendado&quot;</td><td>&quot;359.000 €&quot;</td><td>&quot;244 m²&quot;</td><td>4</td><td>&quot;1.471 €/m²&quot;</td><td>3</td><td>39</td><td>&quot;pisos&quot;</td><td>&quot;a_coruna&quot;</td><td>&quot;Casa&quot;</td><td>&quot;casas&quot;</td></tr><tr><td>4</td><td>&quot;Chalet en Urba…</td><td>null</td><td>&quot;O Milladoiro (…</td><td>&quot;https://fotos5…</td><td>&quot;Recomendado&quot;</td><td>&quot;200.430 €&quot;</td><td>&quot;315 m²&quot;</td><td>4</td><td>&quot;636 €/m²&quot;</td><td>3</td><td>24</td><td>&quot;pisos&quot;</td><td>&quot;a_coruna&quot;</td><td>&quot;Chalet&quot;</td><td>&quot;casas&quot;</td></tr></tbody></table></div>"
      ],
      "text/plain": [
       "shape: (5, 16)\n",
       "┌─────┬─────────────┬─────────────┬─────────────┬───┬───────┬──────────┬─────────────┬─────────────┐\n",
       "│     ┆ summary     ┆ description ┆ location    ┆ … ┆ type  ┆ region   ┆ summary_typ ┆ updated_typ │\n",
       "│ --- ┆ ---         ┆ ---         ┆ ---         ┆   ┆ ---   ┆ ---      ┆ e           ┆ e           │\n",
       "│ i64 ┆ str         ┆ str         ┆ str         ┆   ┆ str   ┆ str      ┆ ---         ┆ ---         │\n",
       "│     ┆             ┆             ┆             ┆   ┆       ┆          ┆ str         ┆ str         │\n",
       "╞═════╪═════════════╪═════════════╪═════════════╪═══╪═══════╪══════════╪═════════════╪═════════════╡\n",
       "│ 0   ┆ Casa en     ┆ null        ┆ Ames (San   ┆ … ┆ pisos ┆ a_coruna ┆ Casa        ┆ casas       │\n",
       "│     ┆ calle Urb.  ┆             ┆ Tome)       ┆   ┆       ┆          ┆             ┆             │\n",
       "│     ┆ Las Mimosas ┆             ┆             ┆   ┆       ┆          ┆             ┆             │\n",
       "│ 1   ┆ Piso en     ┆ null        ┆ Ames (San   ┆ … ┆ pisos ┆ a_coruna ┆ Piso        ┆ piso        │\n",
       "│     ┆ Milladoiro  ┆             ┆ Tome)       ┆   ┆       ┆          ┆             ┆             │\n",
       "│ 2   ┆ Casa en     ┆ null        ┆ A           ┆ … ┆ pisos ┆ a_coruna ┆ Casa        ┆ casas       │\n",
       "│     ┆ calle La    ┆             ┆ Ortigueira  ┆   ┆       ┆          ┆             ┆             │\n",
       "│     ┆ Piedra      ┆             ┆ (Cariño)    ┆   ┆       ┆          ┆             ┆             │\n",
       "│ 3   ┆ Casa en     ┆ null        ┆ Perillo     ┆ … ┆ pisos ┆ a_coruna ┆ Casa        ┆ casas       │\n",
       "│     ┆ Perillo     ┆             ┆ (Oleiros)   ┆   ┆       ┆          ┆             ┆             │\n",
       "│ 4   ┆ Chalet en   ┆ null        ┆ O           ┆ … ┆ pisos ┆ a_coruna ┆ Chalet      ┆ casas       │\n",
       "│     ┆ Urbanizació ┆             ┆ Milladoiro  ┆   ┆       ┆          ┆             ┆             │\n",
       "│     ┆ n Las       ┆             ┆ (Ames)      ┆   ┆       ┆          ┆             ┆             │\n",
       "│     ┆ Mimos…      ┆             ┆             ┆   ┆       ┆          ┆             ┆             │\n",
       "└─────┴─────────────┴─────────────┴─────────────┴───┴───────┴──────────┴─────────────┴─────────────┘"
      ]
     },
     "execution_count": 196,
     "metadata": {},
     "output_type": "execute_result"
    }
   ],
   "source": [
    "# Once the dict of types is created, now we can classify \"pisos\" correctly\n",
    "df_filtered = df_filtered.with_columns(\n",
    "    pl.when(pl.col(\"type\") == \"pisos\")  # Condition: if the value is 'pisos'\n",
    "    .then(pl.col(\"summary_type\").map_elements(lambda x: summary_types_to_types_dict.get(x, x)))\n",
    "    .otherwise(pl.col(\"type\"))  # Keep original value if it's not 'pisos'\n",
    "    .alias(\"updated_type\")  # Create new column 'updated_type'\n",
    ")\n",
    "\n",
    "df_filtered.head(5)"
   ]
  },
  {
   "cell_type": "code",
   "execution_count": 202,
   "metadata": {},
   "outputs": [
    {
     "data": {
      "text/html": [
       "<div><style>\n",
       ".dataframe > thead > tr,\n",
       ".dataframe > tbody > tr {\n",
       "  text-align: right;\n",
       "  white-space: pre-wrap;\n",
       "}\n",
       "</style>\n",
       "<small>shape: (12, 6)</small><table border=\"1\" class=\"dataframe\"><thead><tr><th>region</th><th>type</th><th>size</th><th>rooms</th><th>bathrooms</th><th>price</th></tr><tr><td>str</td><td>str</td><td>str</td><td>i64</td><td>i64</td><td>str</td></tr></thead><tbody><tr><td>&quot;a_coruna&quot;</td><td>&quot;casas&quot;</td><td>&quot;315 m²&quot;</td><td>4</td><td>3</td><td>&quot;250.000 €&quot;</td></tr><tr><td>&quot;a_coruna&quot;</td><td>&quot;piso&quot;</td><td>&quot;72 m²&quot;</td><td>2</td><td>1</td><td>&quot;90.000 €&quot;</td></tr><tr><td>&quot;a_coruna&quot;</td><td>&quot;casas&quot;</td><td>&quot;92 m²&quot;</td><td>2</td><td>1</td><td>&quot;50.000 €&quot;</td></tr><tr><td>&quot;a_coruna&quot;</td><td>&quot;casas&quot;</td><td>&quot;244 m²&quot;</td><td>4</td><td>3</td><td>&quot;359.000 €&quot;</td></tr><tr><td>&quot;a_coruna&quot;</td><td>&quot;casas&quot;</td><td>&quot;315 m²&quot;</td><td>4</td><td>3</td><td>&quot;200.430 €&quot;</td></tr><tr><td>&quot;a_coruna&quot;</td><td>&quot;casas&quot;</td><td>&quot;226 m²&quot;</td><td>4</td><td>3</td><td>&quot;320.000 €&quot;</td></tr><tr><td>&quot;a_coruna&quot;</td><td>&quot;casas&quot;</td><td>&quot;196 m²&quot;</td><td>5</td><td>2</td><td>&quot;120.000 €&quot;</td></tr><tr><td>&quot;a_coruna&quot;</td><td>&quot;piso&quot;</td><td>&quot;48 m²&quot;</td><td>1</td><td>1</td><td>&quot;102.000 €&quot;</td></tr><tr><td>&quot;a_coruna&quot;</td><td>&quot;casas&quot;</td><td>&quot;300 m²&quot;</td><td>4</td><td>4</td><td>&quot;285.000 €&quot;</td></tr><tr><td>&quot;a_coruna&quot;</td><td>&quot;piso&quot;</td><td>&quot;82 m²&quot;</td><td>4</td><td>1</td><td>&quot;49.000 €&quot;</td></tr><tr><td>&quot;a_coruna&quot;</td><td>&quot;piso&quot;</td><td>&quot;105 m²&quot;</td><td>3</td><td>2</td><td>&quot;260.000 €&quot;</td></tr><tr><td>&quot;a_coruna&quot;</td><td>&quot;piso&quot;</td><td>&quot;96 m²&quot;</td><td>3</td><td>2</td><td>&quot;109.000 €&quot;</td></tr></tbody></table></div>"
      ],
      "text/plain": [
       "shape: (12, 6)\n",
       "┌──────────┬───────┬────────┬───────┬───────────┬───────────┐\n",
       "│ region   ┆ type  ┆ size   ┆ rooms ┆ bathrooms ┆ price     │\n",
       "│ ---      ┆ ---   ┆ ---    ┆ ---   ┆ ---       ┆ ---       │\n",
       "│ str      ┆ str   ┆ str    ┆ i64   ┆ i64       ┆ str       │\n",
       "╞══════════╪═══════╪════════╪═══════╪═══════════╪═══════════╡\n",
       "│ a_coruna ┆ casas ┆ 315 m² ┆ 4     ┆ 3         ┆ 250.000 € │\n",
       "│ a_coruna ┆ piso  ┆ 72 m²  ┆ 2     ┆ 1         ┆ 90.000 €  │\n",
       "│ a_coruna ┆ casas ┆ 92 m²  ┆ 2     ┆ 1         ┆ 50.000 €  │\n",
       "│ a_coruna ┆ casas ┆ 244 m² ┆ 4     ┆ 3         ┆ 359.000 € │\n",
       "│ a_coruna ┆ casas ┆ 315 m² ┆ 4     ┆ 3         ┆ 200.430 € │\n",
       "│ …        ┆ …     ┆ …      ┆ …     ┆ …         ┆ …         │\n",
       "│ a_coruna ┆ piso  ┆ 48 m²  ┆ 1     ┆ 1         ┆ 102.000 € │\n",
       "│ a_coruna ┆ casas ┆ 300 m² ┆ 4     ┆ 4         ┆ 285.000 € │\n",
       "│ a_coruna ┆ piso  ┆ 82 m²  ┆ 4     ┆ 1         ┆ 49.000 €  │\n",
       "│ a_coruna ┆ piso  ┆ 105 m² ┆ 3     ┆ 2         ┆ 260.000 € │\n",
       "│ a_coruna ┆ piso  ┆ 96 m²  ┆ 3     ┆ 2         ┆ 109.000 € │\n",
       "└──────────┴───────┴────────┴───────┴───────────┴───────────┘"
      ]
     },
     "execution_count": 202,
     "metadata": {},
     "output_type": "execute_result"
    }
   ],
   "source": [
    "# Select columns that are going to be used\n",
    "columns_wanted = ['region', 'updated_type', 'size', 'rooms', 'bathrooms', 'price']\n",
    "df = df_filtered[columns_wanted]\n",
    "\n",
    "# Remove rows that contain any null value and rename column\n",
    "df = df.drop_nulls().rename({\"updated_type\": \"type\"})\n",
    "df.head(12)"
   ]
  },
  {
   "cell_type": "code",
   "execution_count": 203,
   "metadata": {},
   "outputs": [
    {
     "name": "stdout",
     "output_type": "stream",
     "text": [
      "shape: (741_472, 6)\n",
      "┌────────┬──────┬────────┬───────┬───────────┬──────────┐\n",
      "│ region ┆ type ┆ size   ┆ rooms ┆ bathrooms ┆ price    │\n",
      "│ ---    ┆ ---  ┆ ---    ┆ ---   ┆ ---       ┆ ---      │\n",
      "│ i32    ┆ i32  ┆ f64    ┆ i64   ┆ i64       ┆ f64      │\n",
      "╞════════╪══════╪════════╪═══════╪═══════════╪══════════╡\n",
      "│ 5      ┆ 1    ┆ 315.0  ┆ 4     ┆ 3         ┆ 250000.0 │\n",
      "│ 5      ┆ 6    ┆ 72.0   ┆ 2     ┆ 1         ┆ 90000.0  │\n",
      "│ 5      ┆ 1    ┆ 92.0   ┆ 2     ┆ 1         ┆ 50000.0  │\n",
      "│ 5      ┆ 1    ┆ 244.0  ┆ 4     ┆ 3         ┆ 359000.0 │\n",
      "│ 5      ┆ 1    ┆ 315.0  ┆ 4     ┆ 3         ┆ 200430.0 │\n",
      "│ …      ┆ …    ┆ …      ┆ …     ┆ …         ┆ …        │\n",
      "│ 869    ┆ 4    ┆ 1120.0 ┆ 10    ┆ 1         ┆ 1.1e6    │\n",
      "│ 869    ┆ 4    ┆ 520.0  ┆ 8     ┆ 3         ┆ 1.5e6    │\n",
      "│ 869    ┆ 4    ┆ 350.0  ┆ 5     ┆ 2         ┆ 1.35e6   │\n",
      "│ 869    ┆ 4    ┆ 202.0  ┆ 5     ┆ 3         ┆ 456000.0 │\n",
      "│ 869    ┆ 5    ┆ 87.0   ┆ 1     ┆ 1         ┆ 155000.0 │\n",
      "└────────┴──────┴────────┴───────┴───────────┴──────────┘\n"
     ]
    }
   ],
   "source": [
    "# STEPS\n",
    "# 1. Encode into labels the columns \"region\" and \"type\"\n",
    "# 2. Obtain just the number of \"size\" and \"price\" and convert them to integer\n",
    "\n",
    "def convert_to_float(value: str) -> float:\n",
    "    # Remove periods used as thousands separators\n",
    "    value = value.replace('.', '')\n",
    "    # Replace the comma with a period for the decimal separator\n",
    "    value = value.replace(',', '.')\n",
    "    return float(value)\n",
    "\n",
    "def encode_categories(values: pl.Series) -> Tuple[np.ndarray, LabelEncoder]:\n",
    "    le = LabelEncoder()\n",
    "    le.fit(values)\n",
    "    label_values = le.transform(values)\n",
    "    return label_values, le\n",
    "\n",
    "def get_and_return_number(values: pl.Series):\n",
    "    test = [convert_to_float(val.split()[0]) for val in values]\n",
    "    return test\n",
    "\n",
    "labels_region, le_region = encode_categories(df['region'])\n",
    "labels_types, le_type = encode_categories(df['type'])\n",
    "\n",
    "df = df.with_columns(pl.Series(\"region\", labels_region)).with_columns(pl.Series(\"type\", labels_types))\n",
    "\n",
    "size_values = get_and_return_number(df['size'])\n",
    "price_values = get_and_return_number(df['price'])\n",
    "\n",
    "df = df.with_columns(pl.Series(\"size\", size_values)).with_columns(pl.Series(\"price\", price_values))\n",
    "\n",
    "print(df)\n"
   ]
  },
  {
   "cell_type": "code",
   "execution_count": null,
   "metadata": {},
   "outputs": [],
   "source": []
  }
 ],
 "metadata": {
  "kernelspec": {
   "display_name": "Python 3",
   "language": "python",
   "name": "python3"
  },
  "language_info": {
   "codemirror_mode": {
    "name": "ipython",
    "version": 3
   },
   "file_extension": ".py",
   "mimetype": "text/x-python",
   "name": "python",
   "nbconvert_exporter": "python",
   "pygments_lexer": "ipython3",
   "version": "3.12.1"
  }
 },
 "nbformat": 4,
 "nbformat_minor": 2
}
