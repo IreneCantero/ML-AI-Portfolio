{
 "cells": [
  {
   "cell_type": "markdown",
   "metadata": {},
   "source": [
    "## Steps\n",
    "\n",
    "1. **Collect data:** Gather images of Pokémon along with their types.\n",
    "2. **Preprocess data:** Resize, normalize, and encode Pokémon types.\n",
    "3. **Design the generator:** Use a conditional GAN or VAE to generate images based on types.\n",
    "4. **Train the model:** Train the model on Pokémon images, optimizing for realistic image generation.\n",
    "5. **Refine the generated images:** Enhance the image quality and ensure consistency with input types.\n",
    "6. **Create a user interface:** Allow users to input types and view generated images.\n",
    "7. **Deploy and test:** Deploy the model and test it with different type combinations.\n",
    "8. **Refinement:** Iterate on the model, fine-tuning and enhancing the image generation process."
   ]
  },
  {
   "cell_type": "code",
   "execution_count": 2,
   "metadata": {},
   "outputs": [],
   "source": [
    "# Imports\n",
    "from playwright.sync_api import Page"
   ]
  },
  {
   "cell_type": "markdown",
   "metadata": {},
   "source": [
    "## Collect Data"
   ]
  },
  {
   "cell_type": "code",
   "execution_count": null,
   "metadata": {},
   "outputs": [],
   "source": [
    "pokemons_url = \"https://bulbapedia.bulbagarden.net/wiki/List_of_Pok%C3%A9mon_by_National_Pok%C3%A9dex_number\""
   ]
  }
 ],
 "metadata": {
  "kernelspec": {
   "display_name": "Python 3",
   "language": "python",
   "name": "python3"
  },
  "language_info": {
   "codemirror_mode": {
    "name": "ipython",
    "version": 3
   },
   "file_extension": ".py",
   "mimetype": "text/x-python",
   "name": "python",
   "nbconvert_exporter": "python",
   "pygments_lexer": "ipython3",
   "version": "3.12.8"
  }
 },
 "nbformat": 4,
 "nbformat_minor": 2
}
